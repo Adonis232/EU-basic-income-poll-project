{
 "cells": [
  {
   "cell_type": "code",
   "execution_count": 1,
   "metadata": {},
   "outputs": [],
   "source": [
    "import pandas as pd\n",
    "import requests\n",
    "from sqlalchemy import create_engine\n",
    "\n",
    "\n",
    "path = '/home/emmanuel/Desktop/descarga_db/raw_data_project_m1.db'\n",
    "engine = create_engine(f'sqlite:///{path}')\n",
    "raw_df = pd.read_sql_query(\"SELECT * FROM sqlite_master WHERE type='table'\", engine)"
   ]
  },
  {
   "cell_type": "code",
   "execution_count": 2,
   "metadata": {},
   "outputs": [
    {
     "data": {
      "text/html": [
       "<div>\n",
       "<style scoped>\n",
       "    .dataframe tbody tr th:only-of-type {\n",
       "        vertical-align: middle;\n",
       "    }\n",
       "\n",
       "    .dataframe tbody tr th {\n",
       "        vertical-align: top;\n",
       "    }\n",
       "\n",
       "    .dataframe thead th {\n",
       "        text-align: right;\n",
       "    }\n",
       "</style>\n",
       "<table border=\"1\" class=\"dataframe\">\n",
       "  <thead>\n",
       "    <tr style=\"text-align: right;\">\n",
       "      <th></th>\n",
       "      <th>uuid</th>\n",
       "      <th>gender</th>\n",
       "      <th>normalized_job_code</th>\n",
       "      <th>country_code</th>\n",
       "    </tr>\n",
       "  </thead>\n",
       "  <tbody>\n",
       "    <tr>\n",
       "      <th>0</th>\n",
       "      <td>0001afe0-da16-0133-9d54-0a81e8b09a82</td>\n",
       "      <td>male</td>\n",
       "      <td>7932d4705d002b47789c11edfaed685e</td>\n",
       "      <td>NL</td>\n",
       "    </tr>\n",
       "    <tr>\n",
       "      <th>1</th>\n",
       "      <td>00073240-d995-0133-f7e1-0a81e8b09a82</td>\n",
       "      <td>male</td>\n",
       "      <td>None</td>\n",
       "      <td>HR</td>\n",
       "    </tr>\n",
       "    <tr>\n",
       "      <th>2</th>\n",
       "      <td>0007b2d0-daf3-0133-c5f0-0a81e8b09a82</td>\n",
       "      <td>FeMale</td>\n",
       "      <td>e7b3e1c6a32c7247cd4857e4c3574165</td>\n",
       "      <td>DE</td>\n",
       "    </tr>\n",
       "    <tr>\n",
       "      <th>3</th>\n",
       "      <td>00199e00-d8c3-0133-c6b2-0a81e8b09a82</td>\n",
       "      <td>Male</td>\n",
       "      <td>None</td>\n",
       "      <td>IT</td>\n",
       "    </tr>\n",
       "    <tr>\n",
       "      <th>4</th>\n",
       "      <td>0028cc20-dcc4-0133-f408-0a81e8b09a82</td>\n",
       "      <td>female</td>\n",
       "      <td>None</td>\n",
       "      <td>FR</td>\n",
       "    </tr>\n",
       "    <tr>\n",
       "      <th>...</th>\n",
       "      <td>...</td>\n",
       "      <td>...</td>\n",
       "      <td>...</td>\n",
       "      <td>...</td>\n",
       "    </tr>\n",
       "    <tr>\n",
       "      <th>9644</th>\n",
       "      <td>ffe6bd40-d98a-0133-a373-0a81e8b09a82</td>\n",
       "      <td>male</td>\n",
       "      <td>ac47656fd51c2cd8037057262c910dc4</td>\n",
       "      <td>FR</td>\n",
       "    </tr>\n",
       "    <tr>\n",
       "      <th>9645</th>\n",
       "      <td>fff34480-db17-0133-381a-0a81e8b09a82</td>\n",
       "      <td>male</td>\n",
       "      <td>ac47656fd51c2cd8037057262c910dc4</td>\n",
       "      <td>DE</td>\n",
       "    </tr>\n",
       "    <tr>\n",
       "      <th>9646</th>\n",
       "      <td>fffa2a60-dc71-0133-8480-0a81e8b09a82</td>\n",
       "      <td>female</td>\n",
       "      <td>None</td>\n",
       "      <td>ES</td>\n",
       "    </tr>\n",
       "    <tr>\n",
       "      <th>9647</th>\n",
       "      <td>fffcd3a0-d975-0133-b045-0a81e8b09a82</td>\n",
       "      <td>Male</td>\n",
       "      <td>None</td>\n",
       "      <td>LT</td>\n",
       "    </tr>\n",
       "    <tr>\n",
       "      <th>9648</th>\n",
       "      <td>ffffd3f0-da39-0133-da0f-0a81e8b09a82</td>\n",
       "      <td>Male</td>\n",
       "      <td>d06dfb43c95b585a89ae556c9221b573</td>\n",
       "      <td>FR</td>\n",
       "    </tr>\n",
       "  </tbody>\n",
       "</table>\n",
       "<p>9649 rows × 4 columns</p>\n",
       "</div>"
      ],
      "text/plain": [
       "                                      uuid  gender  \\\n",
       "0     0001afe0-da16-0133-9d54-0a81e8b09a82    male   \n",
       "1     00073240-d995-0133-f7e1-0a81e8b09a82    male   \n",
       "2     0007b2d0-daf3-0133-c5f0-0a81e8b09a82  FeMale   \n",
       "3     00199e00-d8c3-0133-c6b2-0a81e8b09a82    Male   \n",
       "4     0028cc20-dcc4-0133-f408-0a81e8b09a82  female   \n",
       "...                                    ...     ...   \n",
       "9644  ffe6bd40-d98a-0133-a373-0a81e8b09a82    male   \n",
       "9645  fff34480-db17-0133-381a-0a81e8b09a82    male   \n",
       "9646  fffa2a60-dc71-0133-8480-0a81e8b09a82  female   \n",
       "9647  fffcd3a0-d975-0133-b045-0a81e8b09a82    Male   \n",
       "9648  ffffd3f0-da39-0133-da0f-0a81e8b09a82    Male   \n",
       "\n",
       "                   normalized_job_code country_code  \n",
       "0     7932d4705d002b47789c11edfaed685e           NL  \n",
       "1                                 None           HR  \n",
       "2     e7b3e1c6a32c7247cd4857e4c3574165           DE  \n",
       "3                                 None           IT  \n",
       "4                                 None           FR  \n",
       "...                                ...          ...  \n",
       "9644  ac47656fd51c2cd8037057262c910dc4           FR  \n",
       "9645  ac47656fd51c2cd8037057262c910dc4           DE  \n",
       "9646                              None           ES  \n",
       "9647                              None           LT  \n",
       "9648  d06dfb43c95b585a89ae556c9221b573           FR  \n",
       "\n",
       "[9649 rows x 4 columns]"
      ]
     },
     "execution_count": 2,
     "metadata": {},
     "output_type": "execute_result"
    }
   ],
   "source": [
    "#query to get the df information I want \n",
    "\n",
    "df_raw = pd.read_sql(\"\"\"SELECT personal_info.uuid,\n",
    "personal_info.gender,\n",
    "career_info.normalized_job_code,\n",
    "country_info.country_code\n",
    "FROM personal_info\n",
    "JOIN career_info \n",
    "ON career_info.uuid = personal_info.uuid\n",
    "JOIN country_info \n",
    "ON country_info.uuid = personal_info.uuid\n",
    "JOIN poll_info \n",
    "ON poll_info.uuid = country_info.uuid \n",
    "GROUP BY career_info.uuid;\"\"\",engine)\n",
    "df_raw"
   ]
  },
  {
   "cell_type": "code",
   "execution_count": 3,
   "metadata": {},
   "outputs": [],
   "source": [
    "def gender_modifier(x):\n",
    "    if x == 'FeMale':\n",
    "        return 'Female'\n",
    "    elif x == 'Fem':\n",
    "        return 'Female'\n",
    "    elif x == 'female':\n",
    "        return 'Female'\n",
    "    elif x == 'male':\n",
    "        return 'Male'\n",
    "    elif x == 'Male':\n",
    "        return 'Male'\n",
    "\n"
   ]
  },
  {
   "cell_type": "code",
   "execution_count": 4,
   "metadata": {},
   "outputs": [],
   "source": [
    "#appliying my definition to clean gender column\n",
    "df_raw['gender_modified'] = df_raw['gender'].apply(gender_modifier)\n",
    "\n",
    "#from df raw, dropping the old and unclean 'gender' column\n",
    "ppl_df_unclean = df_raw.drop(columns=['gender'])\n",
    "\n",
    "#rename column\n",
    "ppl_df_clean = ppl_df_unclean.rename(columns={'gender_modified':'gender'})\n",
    "\n",
    "ppl_df_clean.to_csv('clean_ppl_df.csv',index=False)\n"
   ]
  },
  {
   "cell_type": "code",
   "execution_count": 7,
   "metadata": {},
   "outputs": [],
   "source": [
    "#jobs related to normalized_job_code \n",
    "#r = requests.get('http://api.dataatwork.org/v1/jobs/ac47656fd51c2cd8037057262c910dc4')\n",
    "#req = r.json()\n",
    "\n",
    "#api caller function\n",
    "\n",
    "def api_caller(x):\n",
    "    r = requests.get('http://api.dataatwork.org/v1/jobs/' + str(x))\n",
    "    req = r.json()\n",
    "    return [\"normalized_job_title\"]\n"
   ]
  },
  {
   "cell_type": "code",
   "execution_count": 24,
   "metadata": {},
   "outputs": [],
   "source": [
    "\n",
    "#df_raw['normalized_job_code'].unique()\n"
   ]
  },
  {
   "cell_type": "code",
   "execution_count": null,
   "metadata": {},
   "outputs": [],
   "source": [
    "x = df_raw['normalized_job_code'].apply(api_caller)\n",
    "x\n"
   ]
  },
  {
   "cell_type": "code",
   "execution_count": null,
   "metadata": {},
   "outputs": [],
   "source": []
  },
  {
   "cell_type": "code",
   "execution_count": 94,
   "metadata": {},
   "outputs": [],
   "source": [
    "#country codes through webscrapping\n",
    "\n",
    "url = 'https://www.iban.com/country-codes' \n",
    "raw_codes = pd.read_html(url,header=0)[0]\n",
    "raw_codes\n",
    "\n",
    "#only keeping columns that are needed\n",
    "country_codes = raw_codes.drop(columns=['Alpha-3 code','Numeric'])\n",
    "country_code = country_codes.rename(columns={'Country':'country','Alpha-2 code':'country_code'})\n",
    "\n",
    "#saving all the country codes\n",
    "country_code.to_csv('country_codes.csv',index=False)"
   ]
  },
  {
   "cell_type": "code",
   "execution_count": 1,
   "metadata": {},
   "outputs": [
    {
     "ename": "NameError",
     "evalue": "name 'pd' is not defined",
     "output_type": "error",
     "traceback": [
      "\u001b[0;31m---------------------------------------------------------------------------\u001b[0m",
      "\u001b[0;31mNameError\u001b[0m                                 Traceback (most recent call last)",
      "\u001b[0;32m<ipython-input-1-7716eec161dc>\u001b[0m in \u001b[0;36m<module>\u001b[0;34m\u001b[0m\n\u001b[1;32m      1\u001b[0m \u001b[0;31m#merging clean_ppl and country\u001b[0m\u001b[0;34m\u001b[0m\u001b[0;34m\u001b[0m\u001b[0;34m\u001b[0m\u001b[0m\n\u001b[1;32m      2\u001b[0m \u001b[0;34m\u001b[0m\u001b[0m\n\u001b[0;32m----> 3\u001b[0;31m \u001b[0mppl_2\u001b[0m \u001b[0;34m=\u001b[0m \u001b[0mpd\u001b[0m\u001b[0;34m.\u001b[0m\u001b[0mmerge\u001b[0m\u001b[0;34m(\u001b[0m\u001b[0mclean_ppl_df\u001b[0m\u001b[0;34m,\u001b[0m\u001b[0mcountry_codes\u001b[0m\u001b[0;34m,\u001b[0m \u001b[0mon\u001b[0m \u001b[0;34m=\u001b[0m \u001b[0;34m'country'\u001b[0m\u001b[0;34m)\u001b[0m\u001b[0;34m\u001b[0m\u001b[0;34m\u001b[0m\u001b[0m\n\u001b[0m\u001b[1;32m      4\u001b[0m \u001b[0;34m\u001b[0m\u001b[0m\n\u001b[1;32m      5\u001b[0m \u001b[0mppl_2\u001b[0m\u001b[0;34m\u001b[0m\u001b[0;34m\u001b[0m\u001b[0m\n",
      "\u001b[0;31mNameError\u001b[0m: name 'pd' is not defined"
     ]
    }
   ],
   "source": [
    "#merging clean_ppl and country\n",
    "\n"
   ]
  },
  {
   "cell_type": "code",
   "execution_count": null,
   "metadata": {},
   "outputs": [],
   "source": []
  },
  {
   "cell_type": "code",
   "execution_count": null,
   "metadata": {},
   "outputs": [],
   "source": []
  },
  {
   "cell_type": "code",
   "execution_count": null,
   "metadata": {},
   "outputs": [],
   "source": []
  },
  {
   "cell_type": "code",
   "execution_count": null,
   "metadata": {},
   "outputs": [],
   "source": [
    "\n"
   ]
  },
  {
   "cell_type": "code",
   "execution_count": 14,
   "metadata": {},
   "outputs": [],
   "source": []
  },
  {
   "cell_type": "code",
   "execution_count": null,
   "metadata": {},
   "outputs": [],
   "source": []
  },
  {
   "cell_type": "code",
   "execution_count": null,
   "metadata": {},
   "outputs": [],
   "source": [
    "\n"
   ]
  },
  {
   "cell_type": "code",
   "execution_count": null,
   "metadata": {},
   "outputs": [],
   "source": []
  },
  {
   "cell_type": "code",
   "execution_count": null,
   "metadata": {},
   "outputs": [],
   "source": []
  },
  {
   "cell_type": "code",
   "execution_count": null,
   "metadata": {},
   "outputs": [],
   "source": []
  }
 ],
 "metadata": {
  "kernelspec": {
   "display_name": "Python 3",
   "language": "python",
   "name": "python3"
  },
  "language_info": {
   "codemirror_mode": {
    "name": "ipython",
    "version": 3
   },
   "file_extension": ".py",
   "mimetype": "text/x-python",
   "name": "python",
   "nbconvert_exporter": "python",
   "pygments_lexer": "ipython3",
   "version": "3.7.7"
  }
 },
 "nbformat": 4,
 "nbformat_minor": 4
}
