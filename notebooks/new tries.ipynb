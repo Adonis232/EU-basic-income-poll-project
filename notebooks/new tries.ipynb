{
 "cells": [
  {
   "cell_type": "code",
   "execution_count": 1,
   "metadata": {},
   "outputs": [],
   "source": [
    "import pandas as pd\n",
    "import requests\n",
    "from sqlalchemy import create_engine\n",
    "from bs4 import BeautifulSoup\n",
    "\n",
    "\n",
    "path = '/home/emmanuel/Desktop/descarga_db/raw_data_project_m1.db'\n",
    "engine = create_engine(f'sqlite:///{path}')\n",
    "raw_df = pd.read_sql_query(\"SELECT * FROM sqlite_master WHERE type='table'\", engine)\n"
   ]
  },
  {
   "cell_type": "code",
   "execution_count": 96,
   "metadata": {},
   "outputs": [],
   "source": []
  },
  {
   "cell_type": "code",
   "execution_count": 29,
   "metadata": {},
   "outputs": [],
   "source": [
    "#personal info dataframe"
   ]
  },
  {
   "cell_type": "code",
   "execution_count": 2,
   "metadata": {},
   "outputs": [],
   "source": [
    "#query to get the df information\n",
    "\n",
    "df_personal = pd.read_sql('personal_info',engine)\n",
    "df_country = pd.read_sql('country_info',engine)\n",
    "df_career = pd.read_sql('career_info',engine)\n",
    "df_poll = pd.read_sql('poll_info',engine)\n"
   ]
  },
  {
   "cell_type": "code",
   "execution_count": 3,
   "metadata": {},
   "outputs": [
    {
     "name": "stdout",
     "output_type": "stream",
     "text": [
      "(9649, 5)\n",
      "(9649, 3)\n",
      "(9649, 4)\n",
      "(9649, 6)\n"
     ]
    }
   ],
   "source": [
    "print(df_personal.shape)\n",
    "print(df_country.shape)\n",
    "print(df_career.shape)\n",
    "print(df_poll.shape)"
   ]
  },
  {
   "cell_type": "code",
   "execution_count": 4,
   "metadata": {},
   "outputs": [],
   "source": [
    "engine.dispose()"
   ]
  },
  {
   "cell_type": "code",
   "execution_count": 5,
   "metadata": {},
   "outputs": [
    {
     "data": {
      "text/html": [
       "<div>\n",
       "<style scoped>\n",
       "    .dataframe tbody tr th:only-of-type {\n",
       "        vertical-align: middle;\n",
       "    }\n",
       "\n",
       "    .dataframe tbody tr th {\n",
       "        vertical-align: top;\n",
       "    }\n",
       "\n",
       "    .dataframe thead th {\n",
       "        text-align: right;\n",
       "    }\n",
       "</style>\n",
       "<table border=\"1\" class=\"dataframe\">\n",
       "  <thead>\n",
       "    <tr style=\"text-align: right;\">\n",
       "      <th></th>\n",
       "      <th>uuid</th>\n",
       "      <th>age</th>\n",
       "      <th>gender</th>\n",
       "      <th>dem_has_children</th>\n",
       "      <th>age_group</th>\n",
       "    </tr>\n",
       "  </thead>\n",
       "  <tbody>\n",
       "    <tr>\n",
       "      <th>0</th>\n",
       "      <td>f6e7ee00-deac-0133-4de8-0a81e8b09a82</td>\n",
       "      <td>61 years old</td>\n",
       "      <td>male</td>\n",
       "      <td>NO</td>\n",
       "      <td>40_65</td>\n",
       "    </tr>\n",
       "  </tbody>\n",
       "</table>\n",
       "</div>"
      ],
      "text/plain": [
       "                                   uuid           age gender dem_has_children  \\\n",
       "0  f6e7ee00-deac-0133-4de8-0a81e8b09a82  61 years old   male               NO   \n",
       "\n",
       "  age_group  \n",
       "0     40_65  "
      ]
     },
     "execution_count": 5,
     "metadata": {},
     "output_type": "execute_result"
    }
   ],
   "source": [
    "df_personal.head(1)"
   ]
  },
  {
   "cell_type": "code",
   "execution_count": 6,
   "metadata": {},
   "outputs": [],
   "source": [
    "def gender_modifier(x):\n",
    "    if x == 'FeMale':\n",
    "        return 'Female'\n",
    "    elif x == 'Fem':\n",
    "        return 'Female'\n",
    "    elif x == 'female':\n",
    "        return 'Female'\n",
    "    elif x == 'male':\n",
    "        return 'Male'\n",
    "    elif x == 'Male':\n",
    "        return 'Male'"
   ]
  },
  {
   "cell_type": "code",
   "execution_count": 7,
   "metadata": {},
   "outputs": [
    {
     "data": {
      "text/plain": [
       "array(['NO', 'yES', 'nO', 'YES'], dtype=object)"
      ]
     },
     "execution_count": 7,
     "metadata": {},
     "output_type": "execute_result"
    }
   ],
   "source": [
    "df_personal['dem_has_children'].unique()"
   ]
  },
  {
   "cell_type": "code",
   "execution_count": 8,
   "metadata": {},
   "outputs": [],
   "source": [
    "def children_modifier(x):\n",
    "    if x == 'NO':\n",
    "        return 'no'\n",
    "    elif x == 'nO':\n",
    "        return 'no'\n",
    "    elif x == 'No':\n",
    "        return 'no'\n",
    "    elif x == 'YES':\n",
    "        return 'yes'\n",
    "    elif x == 'yES':\n",
    "        return 'yes'"
   ]
  },
  {
   "cell_type": "code",
   "execution_count": 9,
   "metadata": {},
   "outputs": [],
   "source": [
    "#appliying my definition to clean gender and dem_has_children columns\n",
    "df_personal['gender_modified'] = df_personal['gender'].apply(gender_modifier)\n",
    "df_personal['dem_has_children_mo'] = df_personal['dem_has_children'].apply(children_modifier)\n",
    "\n",
    "#from df raw, dropping the old and unclean 'gender' and dem_has_children columns\n",
    "df_personal_clean = df_personal.drop(columns=['gender','dem_has_children'])\n",
    "\n",
    "\n",
    "#rename column\n",
    "df_personal_clean = df_personal_clean.rename(columns={'gender_modified':'gender','dem_has_children_mo':'dem_has_children'})"
   ]
  },
  {
   "cell_type": "code",
   "execution_count": 10,
   "metadata": {},
   "outputs": [
    {
     "data": {
      "text/html": [
       "<div>\n",
       "<style scoped>\n",
       "    .dataframe tbody tr th:only-of-type {\n",
       "        vertical-align: middle;\n",
       "    }\n",
       "\n",
       "    .dataframe tbody tr th {\n",
       "        vertical-align: top;\n",
       "    }\n",
       "\n",
       "    .dataframe thead th {\n",
       "        text-align: right;\n",
       "    }\n",
       "</style>\n",
       "<table border=\"1\" class=\"dataframe\">\n",
       "  <thead>\n",
       "    <tr style=\"text-align: right;\">\n",
       "      <th></th>\n",
       "      <th>uuid</th>\n",
       "      <th>age</th>\n",
       "      <th>age_group</th>\n",
       "      <th>gender</th>\n",
       "      <th>dem_has_children</th>\n",
       "    </tr>\n",
       "  </thead>\n",
       "  <tbody>\n",
       "    <tr>\n",
       "      <th>0</th>\n",
       "      <td>f6e7ee00-deac-0133-4de8-0a81e8b09a82</td>\n",
       "      <td>61 years old</td>\n",
       "      <td>40_65</td>\n",
       "      <td>Male</td>\n",
       "      <td>no</td>\n",
       "    </tr>\n",
       "    <tr>\n",
       "      <th>1</th>\n",
       "      <td>54f0f1c0-dda1-0133-a559-0a81e8b09a82</td>\n",
       "      <td>57 years old</td>\n",
       "      <td>40_65</td>\n",
       "      <td>Male</td>\n",
       "      <td>yes</td>\n",
       "    </tr>\n",
       "    <tr>\n",
       "      <th>2</th>\n",
       "      <td>83127080-da3d-0133-c74f-0a81e8b09a82</td>\n",
       "      <td>32 years old</td>\n",
       "      <td>26_39</td>\n",
       "      <td>Male</td>\n",
       "      <td>no</td>\n",
       "    </tr>\n",
       "    <tr>\n",
       "      <th>3</th>\n",
       "      <td>15626d40-db13-0133-ea5c-0a81e8b09a82</td>\n",
       "      <td>45 years old</td>\n",
       "      <td>40_65</td>\n",
       "      <td>Male</td>\n",
       "      <td>yes</td>\n",
       "    </tr>\n",
       "    <tr>\n",
       "      <th>4</th>\n",
       "      <td>24954a70-db98-0133-4a64-0a81e8b09a82</td>\n",
       "      <td>41 years old</td>\n",
       "      <td>40_65</td>\n",
       "      <td>Female</td>\n",
       "      <td>yes</td>\n",
       "    </tr>\n",
       "  </tbody>\n",
       "</table>\n",
       "</div>"
      ],
      "text/plain": [
       "                                   uuid           age age_group  gender  \\\n",
       "0  f6e7ee00-deac-0133-4de8-0a81e8b09a82  61 years old     40_65    Male   \n",
       "1  54f0f1c0-dda1-0133-a559-0a81e8b09a82  57 years old     40_65    Male   \n",
       "2  83127080-da3d-0133-c74f-0a81e8b09a82  32 years old     26_39    Male   \n",
       "3  15626d40-db13-0133-ea5c-0a81e8b09a82  45 years old     40_65    Male   \n",
       "4  24954a70-db98-0133-4a64-0a81e8b09a82  41 years old     40_65  Female   \n",
       "\n",
       "  dem_has_children  \n",
       "0               no  \n",
       "1              yes  \n",
       "2               no  \n",
       "3              yes  \n",
       "4              yes  "
      ]
     },
     "execution_count": 10,
     "metadata": {},
     "output_type": "execute_result"
    }
   ],
   "source": [
    "df_personal_clean.isnull().sum()#no nulls\n",
    "df_personal_clean.head()"
   ]
  },
  {
   "cell_type": "code",
   "execution_count": 18,
   "metadata": {},
   "outputs": [],
   "source": [
    "df_personal_clean.to_csv('../raw_data/df_personal.csv')"
   ]
  },
  {
   "cell_type": "code",
   "execution_count": 22,
   "metadata": {},
   "outputs": [],
   "source": [
    "#country info dataframe"
   ]
  },
  {
   "cell_type": "code",
   "execution_count": 31,
   "metadata": {},
   "outputs": [],
   "source": [
    "df_country.isnull().sum()# no nulls\n",
    "df_country.to_csv('../raw_data/df_country.csv')#sent them to raw data folder"
   ]
  },
  {
   "cell_type": "code",
   "execution_count": 11,
   "metadata": {},
   "outputs": [
    {
     "data": {
      "text/plain": [
       "array(['no', 'high', None, 'medium', 'low'], dtype=object)"
      ]
     },
     "execution_count": 11,
     "metadata": {},
     "output_type": "execute_result"
    }
   ],
   "source": [
    "#career info dataframe\n",
    "df_career['dem_education_level'].unique()"
   ]
  },
  {
   "cell_type": "code",
   "execution_count": 12,
   "metadata": {},
   "outputs": [
    {
     "data": {
      "text/plain": [
       "uuid                      0\n",
       "dem_education_level     663\n",
       "dem_full_time_job         0\n",
       "normalized_job_code    3947\n",
       "dtype: int64"
      ]
     },
     "execution_count": 12,
     "metadata": {},
     "output_type": "execute_result"
    }
   ],
   "source": [
    "df_career.isnull().sum()"
   ]
  },
  {
   "cell_type": "code",
   "execution_count": 13,
   "metadata": {},
   "outputs": [],
   "source": [
    "df_career['normalized_job_code'].fillna('None',inplace=True)\n",
    "df_career['dem_education_level'].fillna('None',inplace=True)"
   ]
  },
  {
   "cell_type": "code",
   "execution_count": 12,
   "metadata": {},
   "outputs": [],
   "source": [
    "df_career.to_csv('../raw_data/df_career.csv')"
   ]
  },
  {
   "cell_type": "code",
   "execution_count": null,
   "metadata": {},
   "outputs": [],
   "source": [
    "#poll info dataframe"
   ]
  },
  {
   "cell_type": "code",
   "execution_count": 14,
   "metadata": {},
   "outputs": [
    {
     "data": {
      "text/plain": [
       "uuid                                                   0\n",
       "question_bbi_2016wave4_basicincome_awareness           0\n",
       "question_bbi_2016wave4_basicincome_vote                0\n",
       "question_bbi_2016wave4_basicincome_effect              0\n",
       "question_bbi_2016wave4_basicincome_argumentsfor        0\n",
       "question_bbi_2016wave4_basicincome_argumentsagainst    0\n",
       "dtype: int64"
      ]
     },
     "execution_count": 14,
     "metadata": {},
     "output_type": "execute_result"
    }
   ],
   "source": [
    "df_poll.isnull().sum()"
   ]
  },
  {
   "cell_type": "code",
   "execution_count": 16,
   "metadata": {},
   "outputs": [],
   "source": [
    "df_poll.to_csv('../raw_data/df_poll.csv')"
   ]
  },
  {
   "cell_type": "code",
   "execution_count": 69,
   "metadata": {},
   "outputs": [
    {
     "data": {
      "text/html": [
       "<div>\n",
       "<style scoped>\n",
       "    .dataframe tbody tr th:only-of-type {\n",
       "        vertical-align: middle;\n",
       "    }\n",
       "\n",
       "    .dataframe tbody tr th {\n",
       "        vertical-align: top;\n",
       "    }\n",
       "\n",
       "    .dataframe thead th {\n",
       "        text-align: right;\n",
       "    }\n",
       "</style>\n",
       "<table border=\"1\" class=\"dataframe\">\n",
       "  <thead>\n",
       "    <tr style=\"text-align: right;\">\n",
       "      <th></th>\n",
       "      <th>0</th>\n",
       "    </tr>\n",
       "  </thead>\n",
       "  <tbody>\n",
       "    <tr>\n",
       "      <th>0</th>\n",
       "      <td>None</td>\n",
       "    </tr>\n",
       "    <tr>\n",
       "      <th>1</th>\n",
       "      <td>861a9b9151e11362eb3c77ca914172d0</td>\n",
       "    </tr>\n",
       "    <tr>\n",
       "      <th>2</th>\n",
       "      <td>049a3f3a2b5f85cb2971ba77ad66e10c</td>\n",
       "    </tr>\n",
       "    <tr>\n",
       "      <th>3</th>\n",
       "      <td>f4b2fb1aa40f661488e2782b6d57ad2f</td>\n",
       "    </tr>\n",
       "    <tr>\n",
       "      <th>4</th>\n",
       "      <td>27af8700f5577cec835acee2cb90a2ff</td>\n",
       "    </tr>\n",
       "    <tr>\n",
       "      <th>...</th>\n",
       "      <td>...</td>\n",
       "    </tr>\n",
       "    <tr>\n",
       "      <th>152</th>\n",
       "      <td>b0fa6ede410f50b82ab74f5a705fe699</td>\n",
       "    </tr>\n",
       "    <tr>\n",
       "      <th>153</th>\n",
       "      <td>559a21f836c93876f31b60e6d10656a7</td>\n",
       "    </tr>\n",
       "    <tr>\n",
       "      <th>154</th>\n",
       "      <td>c1fb1a01b78373ac2153c66fa08d16dc</td>\n",
       "    </tr>\n",
       "    <tr>\n",
       "      <th>155</th>\n",
       "      <td>05bb9a333a66d6eb151e253623efe1c0</td>\n",
       "    </tr>\n",
       "    <tr>\n",
       "      <th>156</th>\n",
       "      <td>4cee16550636e292b8d136486fce943b</td>\n",
       "    </tr>\n",
       "  </tbody>\n",
       "</table>\n",
       "<p>157 rows × 1 columns</p>\n",
       "</div>"
      ],
      "text/plain": [
       "                                    0\n",
       "0                                None\n",
       "1    861a9b9151e11362eb3c77ca914172d0\n",
       "2    049a3f3a2b5f85cb2971ba77ad66e10c\n",
       "3    f4b2fb1aa40f661488e2782b6d57ad2f\n",
       "4    27af8700f5577cec835acee2cb90a2ff\n",
       "..                                ...\n",
       "152  b0fa6ede410f50b82ab74f5a705fe699\n",
       "153  559a21f836c93876f31b60e6d10656a7\n",
       "154  c1fb1a01b78373ac2153c66fa08d16dc\n",
       "155  05bb9a333a66d6eb151e253623efe1c0\n",
       "156  4cee16550636e292b8d136486fce943b\n",
       "\n",
       "[157 rows x 1 columns]"
      ]
     },
     "execution_count": 69,
     "metadata": {},
     "output_type": "execute_result"
    }
   ],
   "source": [
    "jobs_list = df_career['normalized_job_code'].unique().tolist()\n",
    "jobs_raw_uniques = pd.DataFrame(jobs_list)\n",
    "jobs_raw_uniques"
   ]
  },
  {
   "cell_type": "code",
   "execution_count": 42,
   "metadata": {},
   "outputs": [
    {
     "data": {
      "text/html": [
       "<div>\n",
       "<style scoped>\n",
       "    .dataframe tbody tr th:only-of-type {\n",
       "        vertical-align: middle;\n",
       "    }\n",
       "\n",
       "    .dataframe tbody tr th {\n",
       "        vertical-align: top;\n",
       "    }\n",
       "\n",
       "    .dataframe thead th {\n",
       "        text-align: right;\n",
       "    }\n",
       "</style>\n",
       "<table border=\"1\" class=\"dataframe\">\n",
       "  <thead>\n",
       "    <tr style=\"text-align: right;\">\n",
       "      <th></th>\n",
       "      <th>uuid</th>\n",
       "      <th>dem_education_level</th>\n",
       "      <th>dem_full_time_job</th>\n",
       "      <th>normalized_job_code</th>\n",
       "    </tr>\n",
       "  </thead>\n",
       "  <tbody>\n",
       "    <tr>\n",
       "      <th>0</th>\n",
       "      <td>f6e7ee00-deac-0133-4de8-0a81e8b09a82</td>\n",
       "      <td>no</td>\n",
       "      <td>no</td>\n",
       "      <td>None</td>\n",
       "    </tr>\n",
       "    <tr>\n",
       "      <th>1</th>\n",
       "      <td>54f0f1c0-dda1-0133-a559-0a81e8b09a82</td>\n",
       "      <td>high</td>\n",
       "      <td>yes</td>\n",
       "      <td>861a9b9151e11362eb3c77ca914172d0</td>\n",
       "    </tr>\n",
       "    <tr>\n",
       "      <th>2</th>\n",
       "      <td>83127080-da3d-0133-c74f-0a81e8b09a82</td>\n",
       "      <td>None</td>\n",
       "      <td>no</td>\n",
       "      <td>None</td>\n",
       "    </tr>\n",
       "    <tr>\n",
       "      <th>3</th>\n",
       "      <td>15626d40-db13-0133-ea5c-0a81e8b09a82</td>\n",
       "      <td>high</td>\n",
       "      <td>yes</td>\n",
       "      <td>049a3f3a2b5f85cb2971ba77ad66e10c</td>\n",
       "    </tr>\n",
       "    <tr>\n",
       "      <th>4</th>\n",
       "      <td>24954a70-db98-0133-4a64-0a81e8b09a82</td>\n",
       "      <td>high</td>\n",
       "      <td>yes</td>\n",
       "      <td>f4b2fb1aa40f661488e2782b6d57ad2f</td>\n",
       "    </tr>\n",
       "    <tr>\n",
       "      <th>...</th>\n",
       "      <td>...</td>\n",
       "      <td>...</td>\n",
       "      <td>...</td>\n",
       "      <td>...</td>\n",
       "    </tr>\n",
       "    <tr>\n",
       "      <th>9644</th>\n",
       "      <td>7d1ac020-dcb4-0133-817a-0a81e8b09a82</td>\n",
       "      <td>high</td>\n",
       "      <td>yes</td>\n",
       "      <td>847165cfda6b1dc82ae22b967da8af2f</td>\n",
       "    </tr>\n",
       "    <tr>\n",
       "      <th>9645</th>\n",
       "      <td>39f989f0-db52-0133-8482-0a81e8b09a82</td>\n",
       "      <td>high</td>\n",
       "      <td>yes</td>\n",
       "      <td>a4d5b8b38f9513825d0d94a981ebe962</td>\n",
       "    </tr>\n",
       "    <tr>\n",
       "      <th>9646</th>\n",
       "      <td>70ce4a90-d965-0133-f5e4-0a81e8b09a82</td>\n",
       "      <td>low</td>\n",
       "      <td>no</td>\n",
       "      <td>None</td>\n",
       "    </tr>\n",
       "    <tr>\n",
       "      <th>9647</th>\n",
       "      <td>2896e440-db3c-0133-5b67-0a81e8b09a82</td>\n",
       "      <td>low</td>\n",
       "      <td>yes</td>\n",
       "      <td>775190277a849cba701b306a7b374c0a</td>\n",
       "    </tr>\n",
       "    <tr>\n",
       "      <th>9648</th>\n",
       "      <td>06217ba0-dd56-0133-edda-0a81e8b09a82</td>\n",
       "      <td>high</td>\n",
       "      <td>yes</td>\n",
       "      <td>8a7a3f1bce0958ae9f090683e5a925b7</td>\n",
       "    </tr>\n",
       "  </tbody>\n",
       "</table>\n",
       "<p>9649 rows × 4 columns</p>\n",
       "</div>"
      ],
      "text/plain": [
       "                                      uuid dem_education_level  \\\n",
       "0     f6e7ee00-deac-0133-4de8-0a81e8b09a82                  no   \n",
       "1     54f0f1c0-dda1-0133-a559-0a81e8b09a82                high   \n",
       "2     83127080-da3d-0133-c74f-0a81e8b09a82                None   \n",
       "3     15626d40-db13-0133-ea5c-0a81e8b09a82                high   \n",
       "4     24954a70-db98-0133-4a64-0a81e8b09a82                high   \n",
       "...                                    ...                 ...   \n",
       "9644  7d1ac020-dcb4-0133-817a-0a81e8b09a82                high   \n",
       "9645  39f989f0-db52-0133-8482-0a81e8b09a82                high   \n",
       "9646  70ce4a90-d965-0133-f5e4-0a81e8b09a82                 low   \n",
       "9647  2896e440-db3c-0133-5b67-0a81e8b09a82                 low   \n",
       "9648  06217ba0-dd56-0133-edda-0a81e8b09a82                high   \n",
       "\n",
       "     dem_full_time_job               normalized_job_code  \n",
       "0                   no                              None  \n",
       "1                  yes  861a9b9151e11362eb3c77ca914172d0  \n",
       "2                   no                              None  \n",
       "3                  yes  049a3f3a2b5f85cb2971ba77ad66e10c  \n",
       "4                  yes  f4b2fb1aa40f661488e2782b6d57ad2f  \n",
       "...                ...                               ...  \n",
       "9644               yes  847165cfda6b1dc82ae22b967da8af2f  \n",
       "9645               yes  a4d5b8b38f9513825d0d94a981ebe962  \n",
       "9646                no                              None  \n",
       "9647               yes  775190277a849cba701b306a7b374c0a  \n",
       "9648               yes  8a7a3f1bce0958ae9f090683e5a925b7  \n",
       "\n",
       "[9649 rows x 4 columns]"
      ]
     },
     "execution_count": 42,
     "metadata": {},
     "output_type": "execute_result"
    }
   ],
   "source": [
    "df_career"
   ]
  },
  {
   "cell_type": "code",
   "execution_count": 16,
   "metadata": {},
   "outputs": [
    {
     "ename": "KeyError",
     "evalue": "'normalized_job_title'",
     "output_type": "error",
     "traceback": [
      "\u001b[0;31m---------------------------------------------------------------------------\u001b[0m",
      "\u001b[0;31mKeyError\u001b[0m                                  Traceback (most recent call last)",
      "\u001b[0;32m<ipython-input-16-58272c6fcf47>\u001b[0m in \u001b[0;36m<module>\u001b[0;34m\u001b[0m\n\u001b[1;32m      4\u001b[0m \u001b[0;34m\u001b[0m\u001b[0m\n\u001b[1;32m      5\u001b[0m     \u001b[0mr\u001b[0m \u001b[0;34m=\u001b[0m \u001b[0mrequests\u001b[0m\u001b[0;34m.\u001b[0m\u001b[0mget\u001b[0m\u001b[0;34m(\u001b[0m\u001b[0;34mf'http://api.dataatwork.org/v1/jobs/{a}'\u001b[0m\u001b[0;34m)\u001b[0m\u001b[0;34m\u001b[0m\u001b[0;34m\u001b[0m\u001b[0m\n\u001b[0;32m----> 6\u001b[0;31m     \u001b[0mjobs_dict\u001b[0m\u001b[0;34m[\u001b[0m\u001b[0ma\u001b[0m\u001b[0;34m]\u001b[0m\u001b[0;34m=\u001b[0m\u001b[0;34m(\u001b[0m\u001b[0mr\u001b[0m\u001b[0;34m.\u001b[0m\u001b[0mjson\u001b[0m\u001b[0;34m(\u001b[0m\u001b[0;34m)\u001b[0m\u001b[0;34m)\u001b[0m\u001b[0;34m[\u001b[0m\u001b[0;34m'normalized_job_title'\u001b[0m\u001b[0;34m]\u001b[0m\u001b[0;34m\u001b[0m\u001b[0;34m\u001b[0m\u001b[0m\n\u001b[0m\u001b[1;32m      7\u001b[0m \u001b[0;34m\u001b[0m\u001b[0m\n",
      "\u001b[0;31mKeyError\u001b[0m: 'normalized_job_title'"
     ]
    }
   ],
   "source": [
    "jobs_dict = {}\n",
    "\n",
    "for a in jobs_list:\n",
    "    \n",
    "    r = requests.get(f'http://api.dataatwork.org/v1/jobs/{a}')\n",
    "    jobs_dict[a]=(r.json())['normalized_job_title']\n",
    "          "
   ]
  },
  {
   "cell_type": "code",
   "execution_count": 83,
   "metadata": {},
   "outputs": [],
   "source": [
    "\n",
    "def api_caller(x):\n",
    "    req=[]\n",
    "    r = requests.get('http://api.dataatwork.org/v1/jobs/' + str(x))\n",
    "    req = r.json()\n",
    "    return req['normalized_job_title']\n",
    "#req[]"
   ]
  },
  {
   "cell_type": "code",
   "execution_count": 84,
   "metadata": {},
   "outputs": [
    {
     "ename": "KeyError",
     "evalue": "'normalized_job_title'",
     "output_type": "error",
     "traceback": [
      "\u001b[0;31m---------------------------------------------------------------------------\u001b[0m",
      "\u001b[0;31mKeyError\u001b[0m                                  Traceback (most recent call last)",
      "\u001b[0;32m<ipython-input-84-8ea23625d753>\u001b[0m in \u001b[0;36m<module>\u001b[0;34m\u001b[0m\n\u001b[0;32m----> 1\u001b[0;31m \u001b[0mdf_career\u001b[0m\u001b[0;34m[\u001b[0m\u001b[0;34m'normalized_job_code'\u001b[0m\u001b[0;34m]\u001b[0m\u001b[0;34m.\u001b[0m\u001b[0mapply\u001b[0m\u001b[0;34m(\u001b[0m\u001b[0mapi_caller\u001b[0m\u001b[0;34m)\u001b[0m\u001b[0;34m\u001b[0m\u001b[0;34m\u001b[0m\u001b[0m\n\u001b[0m\u001b[1;32m      2\u001b[0m \u001b[0;34m\u001b[0m\u001b[0m\n",
      "\u001b[0;32m~/miniconda3/envs/ironhack_env/lib/python3.7/site-packages/pandas/core/series.py\u001b[0m in \u001b[0;36mapply\u001b[0;34m(self, func, convert_dtype, args, **kwds)\u001b[0m\n\u001b[1;32m   3846\u001b[0m             \u001b[0;32melse\u001b[0m\u001b[0;34m:\u001b[0m\u001b[0;34m\u001b[0m\u001b[0;34m\u001b[0m\u001b[0m\n\u001b[1;32m   3847\u001b[0m                 \u001b[0mvalues\u001b[0m \u001b[0;34m=\u001b[0m \u001b[0mself\u001b[0m\u001b[0;34m.\u001b[0m\u001b[0mastype\u001b[0m\u001b[0;34m(\u001b[0m\u001b[0mobject\u001b[0m\u001b[0;34m)\u001b[0m\u001b[0;34m.\u001b[0m\u001b[0mvalues\u001b[0m\u001b[0;34m\u001b[0m\u001b[0;34m\u001b[0m\u001b[0m\n\u001b[0;32m-> 3848\u001b[0;31m                 \u001b[0mmapped\u001b[0m \u001b[0;34m=\u001b[0m \u001b[0mlib\u001b[0m\u001b[0;34m.\u001b[0m\u001b[0mmap_infer\u001b[0m\u001b[0;34m(\u001b[0m\u001b[0mvalues\u001b[0m\u001b[0;34m,\u001b[0m \u001b[0mf\u001b[0m\u001b[0;34m,\u001b[0m \u001b[0mconvert\u001b[0m\u001b[0;34m=\u001b[0m\u001b[0mconvert_dtype\u001b[0m\u001b[0;34m)\u001b[0m\u001b[0;34m\u001b[0m\u001b[0;34m\u001b[0m\u001b[0m\n\u001b[0m\u001b[1;32m   3849\u001b[0m \u001b[0;34m\u001b[0m\u001b[0m\n\u001b[1;32m   3850\u001b[0m         \u001b[0;32mif\u001b[0m \u001b[0mlen\u001b[0m\u001b[0;34m(\u001b[0m\u001b[0mmapped\u001b[0m\u001b[0;34m)\u001b[0m \u001b[0;32mand\u001b[0m \u001b[0misinstance\u001b[0m\u001b[0;34m(\u001b[0m\u001b[0mmapped\u001b[0m\u001b[0;34m[\u001b[0m\u001b[0;36m0\u001b[0m\u001b[0;34m]\u001b[0m\u001b[0;34m,\u001b[0m \u001b[0mSeries\u001b[0m\u001b[0;34m)\u001b[0m\u001b[0;34m:\u001b[0m\u001b[0;34m\u001b[0m\u001b[0;34m\u001b[0m\u001b[0m\n",
      "\u001b[0;32mpandas/_libs/lib.pyx\u001b[0m in \u001b[0;36mpandas._libs.lib.map_infer\u001b[0;34m()\u001b[0m\n",
      "\u001b[0;32m<ipython-input-83-29048ac347f0>\u001b[0m in \u001b[0;36mapi_caller\u001b[0;34m(x)\u001b[0m\n\u001b[1;32m      3\u001b[0m     \u001b[0mr\u001b[0m \u001b[0;34m=\u001b[0m \u001b[0mrequests\u001b[0m\u001b[0;34m.\u001b[0m\u001b[0mget\u001b[0m\u001b[0;34m(\u001b[0m\u001b[0;34m'http://api.dataatwork.org/v1/jobs/'\u001b[0m \u001b[0;34m+\u001b[0m \u001b[0mstr\u001b[0m\u001b[0;34m(\u001b[0m\u001b[0mx\u001b[0m\u001b[0;34m)\u001b[0m\u001b[0;34m)\u001b[0m\u001b[0;34m\u001b[0m\u001b[0;34m\u001b[0m\u001b[0m\n\u001b[1;32m      4\u001b[0m     \u001b[0mreq\u001b[0m \u001b[0;34m=\u001b[0m \u001b[0mr\u001b[0m\u001b[0;34m.\u001b[0m\u001b[0mjson\u001b[0m\u001b[0;34m(\u001b[0m\u001b[0;34m)\u001b[0m\u001b[0;34m\u001b[0m\u001b[0;34m\u001b[0m\u001b[0m\n\u001b[0;32m----> 5\u001b[0;31m     \u001b[0;32mreturn\u001b[0m \u001b[0mreq\u001b[0m\u001b[0;34m[\u001b[0m\u001b[0;34m'normalized_job_title'\u001b[0m\u001b[0;34m]\u001b[0m\u001b[0;34m\u001b[0m\u001b[0;34m\u001b[0m\u001b[0m\n\u001b[0m\u001b[1;32m      6\u001b[0m \u001b[0;31m#req[]\u001b[0m\u001b[0;34m\u001b[0m\u001b[0;34m\u001b[0m\u001b[0;34m\u001b[0m\u001b[0m\n",
      "\u001b[0;31mKeyError\u001b[0m: 'normalized_job_title'"
     ]
    }
   ],
   "source": [
    "df_career['normalized_job_code'].apply(api_caller)\n",
    "\n"
   ]
  },
  {
   "cell_type": "code",
   "execution_count": null,
   "metadata": {},
   "outputs": [],
   "source": []
  },
  {
   "cell_type": "code",
   "execution_count": 90,
   "metadata": {},
   "outputs": [
    {
     "data": {
      "text/plain": [
       "['AT',\n",
       " 'BE',\n",
       " 'BG',\n",
       " 'CY',\n",
       " 'CZ',\n",
       " 'DE',\n",
       " 'DK',\n",
       " 'EE',\n",
       " 'ES',\n",
       " 'FI',\n",
       " 'FR',\n",
       " 'GB',\n",
       " 'GR',\n",
       " 'HR',\n",
       " 'HU',\n",
       " 'IE',\n",
       " 'IT',\n",
       " 'LT',\n",
       " 'LU',\n",
       " 'LV',\n",
       " 'MT',\n",
       " 'NL',\n",
       " 'PL',\n",
       " 'PT',\n",
       " 'RO',\n",
       " 'SE',\n",
       " 'SI',\n",
       " 'SK']"
      ]
     },
     "execution_count": 90,
     "metadata": {},
     "output_type": "execute_result"
    }
   ],
   "source": [
    "#country codes\n",
    "\n",
    "country_list = df_country['country_code'].unique().tolist()\n",
    "country_list"
   ]
  },
  {
   "cell_type": "code",
   "execution_count": 58,
   "metadata": {},
   "outputs": [],
   "source": []
  },
  {
   "cell_type": "code",
   "execution_count": null,
   "metadata": {},
   "outputs": [],
   "source": [
    "pd.DataFrame(country_dict.items(),columns=['country_name','country_code']).to_csv('../raw_data/country_codes.csv')"
   ]
  },
  {
   "cell_type": "code",
   "execution_count": null,
   "metadata": {},
   "outputs": [],
   "source": []
  },
  {
   "cell_type": "code",
   "execution_count": 101,
   "metadata": {},
   "outputs": [
    {
     "data": {
      "text/plain": [
       "[<a href=\"https://ec.europa.eu/eurostat/statistics-explained/index.php/Tutorial:Help_for_readers\n",
       " \">Tutorials</a>,\n",
       " <a accesskey=\"o\" href=\"/eurostat/statistics-explained/index.php?title=Special:UserLogin&amp;returnto=Glossary%3ACountry+codes\" title=\"Login is required to edit (reserved for Eurostat and accredited contributors)\">log in</a>,\n",
       " <a href=\"https://ec.europa.eu/eurostat/statistics-explained/index.php?title=Glossary:Country_codes\">English</a>,\n",
       " <a href=\"https://ec.europa.eu/eurostat/statistics-explained/index.php?title=Glossary:Country_codes/de\">Deutsch</a>,\n",
       " <a href=\"https://ec.europa.eu/eurostat/statistics-explained/index.php?title=Glossary:Country_codes/fr\">français</a>,\n",
       " <a href=\"https://ec.europa.eu/eurostat/statistics-explained/index.php/Main_Page\"><div class=\"statexptitle\"></div></a>,\n",
       " <a href=\"https://ec.europa.eu/eurostat/statistics-explained/index.php/Main_Page\">Main page</a>,\n",
       " <a href=\"https://ec.europa.eu/eurostat/statistics-explained/index.php/Statistical_themes\">Statistical themes</a>,\n",
       " <a href=\"https://ec.europa.eu/eurostat/statistics-explained/index.php/Thematic_glossaries\">Glossary</a>,\n",
       " <a href=\"https://ec.europa.eu/eurostat/statistics-explained/index.php/Special:Categories\">Categories</a>,\n",
       " <a href=\"https://ec.europa.eu/eurostat/statistics-explained/index.php/Beginners:Statistics_4_beginners\">Statistics 4 beginners</a>,\n",
       " <a href=\"https://ec.europa.eu/eurostat/statistics-explained/index.php/Tutorial:Help_for_readers\n",
       " \">Tutorials</a>,\n",
       " <a href=\"https://ec.europa.eu/eurostat/statistics-explained/index.php/Help:Contents\" rel=\"nofollow\" title=\"The place to find out\">Help</a>,\n",
       " <a href=\"http://ec.europa.eu/eurostat/\" rel=\"nofollow\">Eurostat home</a>,\n",
       " <a href=\"http://ec.europa.eu/eurostat/help/support\" rel=\"nofollow\">Contact Eurostat</a>,\n",
       " <a href=\"https://ec.europa.eu/eurostat/statistics-explained/index.php/Eurostat_regional_yearbook\">Regional yearbook</a>,\n",
       " <a href=\"https://ec.europa.eu/eurostat/statistics-explained/index.php/The_EU_in_the_world\">The EU in the world</a>,\n",
       " <a href=\"/eurostat/statistics-explained/index.php?title=Multilingual_articles\">Multilingual articles</a>,\n",
       " <a href=\"https://ec.europa.eu/eurostat/statistics-explained/index.php/Online publications\">Full list</a>,\n",
       " <a accesskey=\"j\" href=\"/eurostat/statistics-explained/index.php?title=Special:WhatLinksHere/Glossary:Country_codes\" title=\"A list of all wiki pages that link here [j]\">What links here</a>,\n",
       " <a accesskey=\"q\" href=\"/eurostat/statistics-explained/index.php?title=Special:SpecialPages\" title=\"A list of all special pages [q]\">Special pages</a>,\n",
       " <a href=\"https://ec.europa.eu/eurostat/statistics-explained/index.php/Main_Page\">Main page</a>,\n",
       " <a href=\"https://ec.europa.eu/eurostat/statistics-explained/index.php/Statistical_themes\">Statistical themes</a>,\n",
       " <a href=\"https://ec.europa.eu/eurostat/statistics-explained/index.php/Thematic_glossaries\">Glossary</a>,\n",
       " <a href=\"https://ec.europa.eu/eurostat/statistics-explained/index.php/Special:Categories\">Categories</a>,\n",
       " <a href=\"https://ec.europa.eu/eurostat/statistics-explained/index.php/Beginners:Statistics_4_beginners\">Statistics 4 beginners</a>,\n",
       " <a href=\"https://ec.europa.eu/eurostat/statistics-explained/index.php/Tutorial:Help_for_readers\n",
       " \">Tutorials</a>,\n",
       " <a href=\"https://ec.europa.eu/eurostat/statistics-explained/index.php/Help:Contents\" rel=\"nofollow\" title=\"The place to find out\">Help</a>,\n",
       " <a href=\"http://ec.europa.eu/eurostat/\" rel=\"nofollow\">Eurostat home</a>,\n",
       " <a href=\"http://ec.europa.eu/eurostat/help/support\" rel=\"nofollow\">Contact Eurostat</a>,\n",
       " <a href=\"https://ec.europa.eu/eurostat/statistics-explained/index.php/Eurostat_regional_yearbook\">Regional yearbook</a>,\n",
       " <a href=\"https://ec.europa.eu/eurostat/statistics-explained/index.php/The_EU_in_the_world\">The EU in the world</a>,\n",
       " <a href=\"/eurostat/statistics-explained/index.php?title=Multilingual_articles\">Multilingual articles</a>,\n",
       " <a href=\"https://ec.europa.eu/eurostat/statistics-explained/index.php/Online publications\">Full list</a>,\n",
       " <a accesskey=\"j\" href=\"/eurostat/statistics-explained/index.php?title=Special:WhatLinksHere/Glossary:Country_codes\" title=\"A list of all wiki pages that link here [j]\">What links here</a>,\n",
       " <a accesskey=\"q\" href=\"/eurostat/statistics-explained/index.php?title=Special:SpecialPages\" title=\"A list of all special pages [q]\">Special pages</a>,\n",
       " <a href=\"https://ec.europa.eu/eurostat/statistics-explained/index.php/Main_Page\">Main page</a>,\n",
       " <a href=\"https://ec.europa.eu/eurostat/statistics-explained/index.php/Statistical_themes\">Statistical themes</a>,\n",
       " <a href=\"https://ec.europa.eu/eurostat/statistics-explained/index.php/Thematic_glossaries\">Glossary</a>,\n",
       " <a href=\"https://ec.europa.eu/eurostat/statistics-explained/index.php/Special:Categories\">Categories</a>,\n",
       " <a href=\"https://ec.europa.eu/eurostat/statistics-explained/index.php/Beginners:Statistics_4_beginners\">Statistics 4 beginners</a>,\n",
       " <a href=\"https://ec.europa.eu/eurostat/statistics-explained/index.php/Tutorial:Help_for_readers\n",
       " \">Tutorials</a>,\n",
       " <a href=\"https://ec.europa.eu/eurostat/statistics-explained/index.php/Help:Contents\" rel=\"nofollow\" title=\"The place to find out\">Help</a>,\n",
       " <a href=\"http://ec.europa.eu/eurostat/\" rel=\"nofollow\">Eurostat home</a>,\n",
       " <a href=\"http://ec.europa.eu/eurostat/help/support\" rel=\"nofollow\">Contact Eurostat</a>,\n",
       " <a href=\"https://ec.europa.eu/eurostat/statistics-explained/index.php/Eurostat_regional_yearbook\">Regional yearbook</a>,\n",
       " <a href=\"https://ec.europa.eu/eurostat/statistics-explained/index.php/The_EU_in_the_world\">The EU in the world</a>,\n",
       " <a href=\"/eurostat/statistics-explained/index.php?title=Multilingual_articles\">Multilingual articles</a>,\n",
       " <a href=\"https://ec.europa.eu/eurostat/statistics-explained/index.php/Online publications\">Full list</a>,\n",
       " <a accesskey=\"j\" href=\"/eurostat/statistics-explained/index.php?title=Special:WhatLinksHere/Glossary:Country_codes\" title=\"A list of all wiki pages that link here [j]\">What links here</a>,\n",
       " <a accesskey=\"q\" href=\"/eurostat/statistics-explained/index.php?title=Special:SpecialPages\" title=\"A list of all special pages [q]\">Special pages</a>,\n",
       " <a id=\"top\" name=\"top\"></a>,\n",
       " <a href=\"https://twitter.com/intent/tweet?url=https%3A%2F%2Fec.europa.eu%2Feurostat%2Fstatistics-explained%2Findex.php%3Ftitle%3DGlossary%3ACountry_codes&amp;hashtags=Eurostat\"><i aria-hidden=\"true\" class=\"fa fa-twitter fa-2x\" style=\"color: #00aced;\"></i></a>,\n",
       " <a href=\"https://www.facebook.com/sharer/sharer.php?u=https%3A%2F%2Fec.europa.eu%2Feurostat%2Fstatistics-explained%2Findex.php%3Ftitle%3DGlossary%3ACountry_codes\" onclick=\"window.open(this.href,'','scrollbars=1,resizable=1,width=400,height=620');return false;\" style=\"margin-right: 28px;\" target=\"_blank\">\n",
       " <i aria-hidden=\"true\" class=\"fa fa-facebook-official fa-2x\" style=\"color: #3b5998;\"></i>\n",
       " </a>,\n",
       " <a href=\"mailto:?subject=Eurostat - Statistics Explained - Country codes&amp;body=Statistics Explained - Country codes %0A https%3A%2F%2Fec.europa.eu%2Feurostat%2Fstatistics-explained%2Findex.php%3Ftitle%3DGlossary%3ACountry_codes\" style=\"background: #466eb4;\n",
       "     border: #466eb4 1px solid;\n",
       "     color: #fff;\n",
       "     border-radius: 50%;\n",
       " \tfont-size: 15px;\n",
       "     position: absolute;\n",
       "     width: 28px;\n",
       "     height: 28px;\n",
       " \tleft: 56px;\">\n",
       " <i aria-hidden=\"true\" class=\"fa fa-envelope\" style=\"\n",
       "     padding-left: 5px;\n",
       "     padding-top: 5px;\n",
       " \"></i>\n",
       " </a>,\n",
       " <a href=\"http://ec.europa.eu/eurostat/statistics-explained/pdfscache/1994.pdf\" rel=\"nofollow\">\n",
       " <i aria-hidden=\"true\" class=\"fa fa-print fa-2x\"></i>\n",
       " </a>,\n",
       " <a href=\"#column-one\">\n",
       " \t\t\t\t\t\tnavigation\t\t\t\t\t</a>,\n",
       " <a href=\"#searchInput\">\n",
       " \t\t\t\t\t\tsearch\t\t\t\t\t</a>,\n",
       " <a href=\"/eurostat/statistics-explained/index.php?title=Glossary:European_Union_(EU)\" title=\"Glossary:European Union (EU)\">European Union (EU)</a>,\n",
       " <a href=\"/eurostat/statistics-explained/index.php?title=Glossary:European_Free_Trade_Association_(EFTA)\" title=\"Glossary:European Free Trade Association (EFTA)\">EFTA</a>,\n",
       " <a href=\"/eurostat/statistics-explained/index.php?title=Glossary:Candidate_countries\" title=\"Glossary:Candidate countries\">candidate countries</a>,\n",
       " <a class=\"mw-redirect\" href=\"/eurostat/statistics-explained/index.php?title=Glossary:Potential_candidates\" title=\"Glossary:Potential candidates\">potential candidates</a>,\n",
       " <a href=\"/eurostat/statistics-explained/index.php?title=Glossary:European_Free_Trade_Association_(EFTA)\" title=\"Glossary:European Free Trade Association (EFTA)\">European Free Trade Association (EFTA)</a>,\n",
       " <a href=\"#cite_note-1\">[1]</a>,\n",
       " <a href=\"#cite_note-2\">[2]</a>,\n",
       " <a href=\"/eurostat/statistics-explained/index.php?title=Glossary:European_Neighbourhood_Policy_(ENP)\" title=\"Glossary:European Neighbourhood Policy (ENP)\">European Neighbourhood Policy (ENP)</a>,\n",
       " <a href=\"#cite_note-3\">[3]</a>,\n",
       " <a class=\"external text\" href=\"https://ec.europa.eu/neighbourhood-enlargement/countries/detailed-country-information/north-macedonia_en\" rel=\"nofollow\">DG NEAR web site for North Macedonia</a>,\n",
       " <a class=\"external text\" href=\"http://ec.europa.eu/enlargement/countries/detailed-country-information/kosovo/index_en.htm\" rel=\"nofollow\">DG NEAR web site for Kosovo</a>,\n",
       " <a class=\"external text\" href=\"http://ec.europa.eu/enlargement/neighbourhood/countries/palestine/index_en.htm\" rel=\"nofollow\">DG NEAR web site for Palestine</a>,\n",
       " <a href=\"/eurostat/statistics-explained/index.php?title=Glossary:Currency_codes\" title=\"Glossary:Currency codes\">Currency codes</a>,\n",
       " <a href=\"/eurostat/statistics-explained/index.php?title=Glossary:Language_codes\" title=\"Glossary:Language codes\">Language codes</a>,\n",
       " <a class=\"external text\" href=\"http://publications.europa.eu/code/en/en-000300.htm\" rel=\"nofollow\">Interinstitutional style guide (Publications Office)</a>,\n",
       " <a href=\"#cite_ref-1\">↑</a>,\n",
       " <a href=\"#cite_ref-2\">↑</a>,\n",
       " <a href=\"#cite_ref-3\">↑</a>,\n",
       " <a href=\"https://ec.europa.eu/eurostat/statistics-explained/index.php?title=Glossary:Country_codes&amp;oldid=479715\">https://ec.europa.eu/eurostat/statistics-explained/index.php?title=Glossary:Country_codes&amp;oldid=479715</a>,\n",
       " <a href=\"/eurostat/statistics-explained/index.php?title=Special:Categories\" title=\"Special:Categories\">Categories</a>,\n",
       " <a href=\"/eurostat/statistics-explained/index.php?title=Category:Geography_glossary\" title=\"Category:Geography glossary\">Geography glossary</a>,\n",
       " <a href=\"/eurostat/statistics-explained/index.php?title=Category:Glossary\" title=\"Category:Glossary\">Glossary</a>,\n",
       " <a href=\"/eurostat/statistics-explained/index.php?title=Glossary:Country_codes\">Glossary</a>,\n",
       " <a accesskey=\"t\" href=\"/eurostat/statistics-explained/index.php?title=Glossary_talk:Country_codes&amp;action=edit&amp;redlink=1\" title=\"Discussion about the content page [t]\">Discussion</a>,\n",
       " <a class=\"external text\" href=\"https://ec.europa.eu/eurostat/statistics-explained/index.php?title=Special:WhoIsWatching&amp;ns=Glossary&amp;page=Country_codes\" rel=\"nofollow\">0 watching users</a>,\n",
       " <a href=\"/eurostat/statistics-explained/index.php?title=Statistics_Explained:Privacy_policy\" title=\"Statistics Explained:Privacy policy\">Privacy policy</a>,\n",
       " <a href=\"/eurostat/statistics-explained/index.php?title=Statistics_Explained:About\" title=\"Statistics Explained:About\">About Statistics Explained</a>,\n",
       " <a href=\"/eurostat/statistics-explained/index.php?title=Statistics_Explained:General_disclaimer\" title=\"Statistics Explained:General disclaimer\">Disclaimers</a>]"
      ]
     },
     "execution_count": 101,
     "metadata": {},
     "output_type": "execute_result"
    }
   ],
   "source": [
    "#country codes through webscrapping\n",
    "\n",
    "url = 'https://ec.europa.eu/eurostat/statistics-explained/index.php/Glossary:Country_codes' \n",
    "html = requests.get(url).content\n",
    "soup = BeautifulSoup(html, 'lxml')\n",
    "soup_1 = soup.find_all('a')\n",
    "soup_1\n",
    "\n",
    "#only keeping columns that are needed\n",
    "#country_codes = raw_codes.drop(columns=['Alpha-3 code','Numeric'])\n",
    "#country_code = country_codes.rename(columns={'Country':'country','Alpha-2 code':'country_code'})\n",
    "\n",
    "#saving all the country codes\n"
   ]
  },
  {
   "cell_type": "code",
   "execution_count": null,
   "metadata": {},
   "outputs": [],
   "source": [
    "\n",
    "\n"
   ]
  },
  {
   "cell_type": "code",
   "execution_count": null,
   "metadata": {},
   "outputs": [],
   "source": []
  },
  {
   "cell_type": "code",
   "execution_count": null,
   "metadata": {},
   "outputs": [],
   "source": []
  },
  {
   "cell_type": "code",
   "execution_count": null,
   "metadata": {},
   "outputs": [],
   "source": []
  },
  {
   "cell_type": "code",
   "execution_count": null,
   "metadata": {},
   "outputs": [],
   "source": [
    "\n"
   ]
  },
  {
   "cell_type": "code",
   "execution_count": 14,
   "metadata": {},
   "outputs": [],
   "source": []
  },
  {
   "cell_type": "code",
   "execution_count": null,
   "metadata": {},
   "outputs": [],
   "source": []
  },
  {
   "cell_type": "code",
   "execution_count": null,
   "metadata": {},
   "outputs": [],
   "source": [
    "\n"
   ]
  },
  {
   "cell_type": "code",
   "execution_count": null,
   "metadata": {},
   "outputs": [],
   "source": []
  },
  {
   "cell_type": "code",
   "execution_count": null,
   "metadata": {},
   "outputs": [],
   "source": []
  },
  {
   "cell_type": "code",
   "execution_count": null,
   "metadata": {},
   "outputs": [],
   "source": []
  }
 ],
 "metadata": {
  "kernelspec": {
   "display_name": "Python [conda env:ironhack_env] *",
   "language": "python",
   "name": "conda-env-ironhack_env-py"
  },
  "language_info": {
   "codemirror_mode": {
    "name": "ipython",
    "version": 3
   },
   "file_extension": ".py",
   "mimetype": "text/x-python",
   "name": "python",
   "nbconvert_exporter": "python",
   "pygments_lexer": "ipython3",
   "version": "3.7.7"
  }
 },
 "nbformat": 4,
 "nbformat_minor": 4
}
